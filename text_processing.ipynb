{
 "cells": [
  {
   "cell_type": "markdown",
   "id": "e30f3133-5e05-4c21-ad94-61555a316436",
   "metadata": {},
   "source": [
    "Load & Clean the Raw Text"
   ]
  },
  {
   "cell_type": "code",
   "execution_count": 1,
   "id": "6b43fa0c-cd16-43ee-9103-5d04a861f817",
   "metadata": {},
   "outputs": [],
   "source": [
    "import re\n",
    "\n",
    "def load_and_clean_text(filepath):\n",
    "    with open(filepath, 'r', encoding='utf-8') as f:\n",
    "        text = f.read()\n",
    "\n",
    "    # Remove Project Gutenberg-style headers and footers (optional)\n",
    "    text = re.sub(r'^\\s*.*START OF.*?\\n', '', text, flags=re.DOTALL)\n",
    "    text = re.sub(r'\\n.*END OF.*$', '', text, flags=re.DOTALL)\n",
    "\n",
    "    # Remove non-alphabetic characters, digits, and extra spaces\n",
    "    text = re.sub(r'[^a-zA-Z\\s]', '', text)\n",
    "    text = re.sub(r'\\s+', ' ', text)\n",
    "\n",
    "    return text.lower()  # Normalize to lowercase"
   ]
  },
  {
   "cell_type": "markdown",
   "id": "bea2e7b5-a2a9-4e0b-af8c-aaee48b14a4b",
   "metadata": {},
   "source": [
    "Tokenize Sentences and Words"
   ]
  },
  {
   "cell_type": "code",
   "execution_count": 2,
   "id": "00fd3c6c-2c18-4da4-9d2c-0d033843b774",
   "metadata": {},
   "outputs": [],
   "source": [
    "def tokenize_text(text):\n",
    "    return text.split()"
   ]
  },
  {
   "cell_type": "code",
   "execution_count": 6,
   "id": "6e5efeb4-960c-4937-8f01-c576b3602e84",
   "metadata": {},
   "outputs": [],
   "source": [
    "basic_stopwords = set(\"\"\"\n",
    "a about above after again against all am an and any are as at be because been before being below between both\n",
    "but by could did do does doing down during each few for from further had has have having he her here hers herself\n",
    "him himself his how i if in into is it its itself just me more most my myself no nor not of off on once only or\n",
    "other ought our ours ourselves out over own same she should so some such than that the their theirs them\n",
    "themselves then there these they this those through to too under until up very was we were what when where\n",
    "which while who whom why will with you your yours yourself yourselves\n",
    "\"\"\".split())\n",
    "\n",
    "def preprocess(filepath):\n",
    "    raw = load_and_clean_text(filepath)\n",
    "    tokens = raw.split()\n",
    "    filtered_tokens = [word for word in tokens if word not in basic_stopwords]\n",
    "    return filtered_tokens"
   ]
  },
  {
   "cell_type": "code",
   "execution_count": 7,
   "id": "b627d6a3-a04a-41b6-ba04-faa9624367b8",
   "metadata": {},
   "outputs": [
    {
     "name": "stdout",
     "output_type": "stream",
     "text": [
      "['green', 'yellow', 'parrot', 'hung', 'cage', 'outside', 'door', 'kept', 'repeating', 'allez', 'vousen', 'allez', 'vousen', 'sapristi', 'thats', 'right', 'speak', 'little', 'spanish', 'also', 'language', 'nobody', 'understood', 'unless', 'mockingbird', 'hung', 'side', 'door', 'whistling', 'fluty', 'notes', 'upon', 'breeze', 'maddening', 'persistence', 'mr', 'pontellier', 'unable', 'read', 'newspaper', 'degree', 'comfort', 'arose', 'expression', 'exclamation', 'disgust', 'walked', 'gallery', 'across', 'narrow', 'bridges', 'connected', 'lebrun', 'cottages', 'one', 'seated', 'door', 'main', 'house', 'parrot', 'mockingbird', 'property', 'madame', 'lebrun', 'right', 'make', 'noise', 'wished', 'mr', 'pontellier', 'privilege', 'quitting', 'society', 'ceased', 'entertaining', 'stopped', 'door', 'cottage', 'fourth', 'one', 'main', 'building', 'next', 'last', 'seating', 'wicker', 'rocker', 'applied', 'task', 'reading', 'newspaper', 'day', 'sunday', 'paper', 'day', 'old', 'sunday', 'papers', 'yet', 'reached']\n"
     ]
    }
   ],
   "source": [
    "tokens_awakening = preprocess(\"data/EN_1899_Chopin,Kate_TheAwakening_Novel.txt\")\n",
    "print(tokens_awakening[:100])  # preview first 100 tokens"
   ]
  },
  {
   "cell_type": "code",
   "execution_count": null,
   "id": "4072d9ed-6f72-49b3-9fc4-4f3ba029fe98",
   "metadata": {},
   "outputs": [],
   "source": []
  }
 ],
 "metadata": {
  "kernelspec": {
   "display_name": "dighum101",
   "language": "python",
   "name": "dighum101"
  },
  "language_info": {
   "codemirror_mode": {
    "name": "ipython",
    "version": 3
   },
   "file_extension": ".py",
   "mimetype": "text/x-python",
   "name": "python",
   "nbconvert_exporter": "python",
   "pygments_lexer": "ipython3",
   "version": "3.12.10"
  }
 },
 "nbformat": 4,
 "nbformat_minor": 5
}
